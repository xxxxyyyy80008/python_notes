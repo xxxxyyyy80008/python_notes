{
 "cells": [
  {
   "cell_type": "markdown",
   "metadata": {},
   "source": [
    "## Max Information Coefficient (MIC)"
   ]
  },
  {
   "cell_type": "markdown",
   "metadata": {},
   "source": [
    "### Part I: package installation\n",
    "\n",
    "after some google search, I found the package `minepy`. However, the installation of `minepy` is a bit tricky in windows environment. \n",
    "\n",
    "Using the installation command `pip install minepy` gives error message.\n",
    "\n",
    "\n",
    "![title](img/error.png)\n",
    "\n",
    "My solution is to install using wheel file. The file can be downloaded here: https://www.lfd.uci.edu/~gohlke/pythonlibs/. \n",
    "\n",
    "![title](img/wheel.png)\n",
    "\n",
    "\n",
    "It is very important to download a file that matches with your python version. Otherwise the installation will fail.\n",
    "For example, my python version is 3.6, so I downloaded the whl file with 36 in file name. \n",
    "\n",
    "\n",
    "![title](img/install.png)\n",
    "\n",
    "\n",
    "If you download the file that does not match with your python version, you will get error message. For example, I have Python 3.7 on another machine and I tried a few files.\n",
    "\n",
    "\n",
    "![title](img/install_error.png)\n"
   ]
  },
  {
   "cell_type": "markdown",
   "metadata": {},
   "source": [
    "### Part II: How to get MIC\n",
    "\n",
    "Python examples can be found here:https://minepy.readthedocs.io/en/latest/python.html"
   ]
  },
  {
   "cell_type": "code",
   "execution_count": 5,
   "metadata": {},
   "outputs": [
    {
     "data": {
      "image/png": "[encoded data removed]",
      "text/plain": [
       "<Figure size 432x288 with 21 Axes>"
      ]
     },
     "metadata": {},
     "output_type": "display_data"
    }
   ],
   "source": [
    "import numpy as np\n",
    "import matplotlib.pyplot as plt\n",
    "from minepy import MINE\n",
    "\n",
    "\n",
    "rs = np.random.RandomState(seed=0)\n",
    "\n",
    "def mysubplot(x, y, numRows, numCols, plotNum,\n",
    "              xlim=(-4, 4), ylim=(-4, 4)):\n",
    "\n",
    "    r = np.around(np.corrcoef(x, y)[0, 1], 1)\n",
    "    mine = MINE(alpha=0.6, c=15, est=\"mic_approx\")\n",
    "    mine.compute_score(x, y)\n",
    "    mic = np.around(mine.mic(), 1)\n",
    "    ax = plt.subplot(numRows, numCols, plotNum,\n",
    "                     xlim=xlim, ylim=ylim)\n",
    "    ax.set_title('Pearson r=%.1f\\nMIC=%.1f' % (r, mic),fontsize=10)\n",
    "    ax.set_frame_on(False)\n",
    "    ax.axes.get_xaxis().set_visible(False)\n",
    "    ax.axes.get_yaxis().set_visible(False)\n",
    "    ax.plot(x, y, ',')\n",
    "    ax.set_xticks([])\n",
    "    ax.set_yticks([])\n",
    "    return ax\n",
    "\n",
    "def rotation(xy, t):\n",
    "    return np.dot(xy, [[np.cos(t), -np.sin(t)], [np.sin(t), np.cos(t)]])\n",
    "\n",
    "def mvnormal(n=1000):\n",
    "    cors = [1.0, 0.8, 0.4, 0.0, -0.4, -0.8, -1.0]\n",
    "    for i, cor in enumerate(cors):\n",
    "        cov = [[1, cor],[cor, 1]]\n",
    "        xy = rs.multivariate_normal([0, 0], cov, n)\n",
    "        mysubplot(xy[:, 0], xy[:, 1], 3, 7, i+1)\n",
    "\n",
    "def rotnormal(n=1000):\n",
    "    ts = [0, np.pi/12, np.pi/6, np.pi/4, np.pi/2-np.pi/6,\n",
    "          np.pi/2-np.pi/12, np.pi/2]\n",
    "    cov = [[1, 1],[1, 1]]\n",
    "    xy = rs.multivariate_normal([0, 0], cov, n)\n",
    "    for i, t in enumerate(ts):\n",
    "        xy_r = rotation(xy, t)\n",
    "        mysubplot(xy_r[:, 0], xy_r[:, 1], 3, 7, i+8)\n",
    "\n",
    "def others(n=1000):\n",
    "    x = rs.uniform(-1, 1, n)\n",
    "    y = 4*(x**2-0.5)**2 + rs.uniform(-1, 1, n)/3\n",
    "    mysubplot(x, y, 3, 7, 15, (-1, 1), (-1/3, 1+1/3))\n",
    "\n",
    "    y = rs.uniform(-1, 1, n)\n",
    "    xy = np.concatenate((x.reshape(-1, 1), y.reshape(-1, 1)), axis=1)\n",
    "    xy = rotation(xy, -np.pi/8)\n",
    "    lim = np.sqrt(2+np.sqrt(2)) / np.sqrt(2)\n",
    "    mysubplot(xy[:, 0], xy[:, 1], 3, 7, 16, (-lim, lim), (-lim, lim))\n",
    "\n",
    "    xy = rotation(xy, -np.pi/8)\n",
    "    lim = np.sqrt(2)\n",
    "    mysubplot(xy[:, 0], xy[:, 1], 3, 7, 17, (-lim, lim), (-lim, lim))\n",
    "\n",
    "    y = 2*x**2 + rs.uniform(-1, 1, n)\n",
    "    mysubplot(x, y, 3, 7, 18, (-1, 1), (-1, 3))\n",
    "\n",
    "    y = (x**2 + rs.uniform(0, 0.5, n)) * \\\n",
    "        np.array([-1, 1])[rs.randint(0, 1, size=n)]\n",
    "    mysubplot(x, y, 3, 7, 19, (-1.5, 1.5), (-1.5, 1.5))\n",
    "\n",
    "    y = np.cos(x * np.pi) + rs.uniform(0, 1/8, n)\n",
    "    x = np.sin(x * np.pi) + rs.uniform(0, 1/8, n)\n",
    "    mysubplot(x, y, 3, 7, 20, (-1.5, 1.5), (-1.5, 1.5))\n",
    "\n",
    "    xy1 = np.random.multivariate_normal([3, 3], [[1, 0], [0, 1]], int(n/4))\n",
    "    xy2 = np.random.multivariate_normal([-3, 3], [[1, 0], [0, 1]], int(n/4))\n",
    "    xy3 = np.random.multivariate_normal([-3, -3], [[1, 0], [0, 1]], int(n/4))\n",
    "    xy4 = np.random.multivariate_normal([3, -3], [[1, 0], [0, 1]], int(n/4))\n",
    "    xy = np.concatenate((xy1, xy2, xy3, xy4), axis=0)\n",
    "    mysubplot(xy[:, 0], xy[:, 1], 3, 7, 21, (-7, 7), (-7, 7))\n",
    "\n",
    "plt.figure(facecolor='white')\n",
    "mvnormal(n=800)\n",
    "rotnormal(n=200)\n",
    "others(n=800)\n",
    "plt.tight_layout()\n",
    "plt.show()"
   ]
  },
  {
   "cell_type": "markdown",
   "metadata": {},
   "source": [
    "### Part III: literature references\n",
    "\n",
    "I find this paper super useful:\n",
    "- https://www.ncbi.nlm.nih.gov/pmc/articles/PMC3325791/ \n",
    "- https://www.ncbi.nlm.nih.gov/pmc/articles/PMC3325791/bin/NIHMS358982-supplement-Supplemental_Figures_and_Tables.pdf"
   ]
  },
  {
   "cell_type": "code",
   "execution_count": null,
   "metadata": {},
   "outputs": [],
   "source": []
  }
 ],
 "metadata": {
  "kernelspec": {
   "display_name": "Python 3",
   "language": "python",
   "name": "python3"
  },
  "language_info": {
   "codemirror_mode": {
    "name": "ipython",
    "version": 3
   },
   "file_extension": ".py",
   "mimetype": "text/x-python",
   "name": "python",
   "nbconvert_exporter": "python",
   "pygments_lexer": "ipython3",
   "version": "3.6.8"
  }
 },
 "nbformat": 4,
 "nbformat_minor": 4
}
