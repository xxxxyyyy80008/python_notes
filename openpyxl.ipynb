{
 "cells": [
  {
   "cell_type": "markdown",
   "metadata": {},
   "source": [
    "# How to work with openpyxl\n",
    "\n",
    "A lot of times we need to use python to either create Excel reports with fancy formating and formulas or update existing reports with new data. Up to now there is no perfect python library that does a good job working with Excel files\n",
    "\n",
    "### Introduction on openpyxl\n",
    "\n",
    "#### Installation\n",
    "- The installation is pretty straight forward: `pip install openpyxl`\n",
    "- For more details, go to this page: https://openpyxl.readthedocs.io/en/stable/index.html\n",
    "\n",
    "#### Example setup\n",
    "- `sample.xlsx` has two worksheets\n",
    "- `PFC.csv` file is a csv file. Data in this file will be inserted into `sample.xlsx` file\n",
    "\n",
    "#### Example 1: Insert rows\n",
    "- This example shows how to insert rows into an existing worksheet.\n",
    "- New rows will be inserted under the header row and on top of existing data rows.\n",
    "- The screenshot before inserting new rows\n",
    "\n",
    "![title](img/openpyxl-1.png)\n",
    "\n",
    "- The screenshot after new rows are inserted\n",
    "\n",
    "![title](img/openpyxl-2.png)\n",
    "\n",
    "#### Example 2: Replace with new data\n",
    "- This example shows how to first clear contents in an worksheet and then push new data to the worksheet\n",
    "- First data in a worksheet will be cleared; Then new data will be pushed to the worksheet, but the formatting will be kept.\n",
    "- The screenshot before replacing worksheet with new data\n",
    "\n",
    "![title](img/openpyxl-3.png)\n",
    "\n",
    "- The screenshot after replacing worksheet with new data\n",
    "\n",
    "![title](img/openpyxl-4.png)\n",
    "\n",
    "### Limitations\n",
    "- one big limitation is this package can't read password protected Excel files though it can create password protected excel files\n",
    "\n",
    "\n"
   ]
  },
  {
   "cell_type": "code",
   "execution_count": null,
   "metadata": {},
   "outputs": [],
   "source": [
    "#load libraries\n",
    "import pandas as pd\n",
    "from openpyxl import Workbook, load_workbook\n",
    "from openpyxl.utils.dataframe import dataframe_to_rows"
   ]
  },
  {
   "cell_type": "code",
   "execution_count": null,
   "metadata": {},
   "outputs": [],
   "source": [
    "#read sample excel file\n",
    "wb = load_workbook(filename = 'sample.xlsx')\n",
    "print(wb.sheetnames)"
   ]
  },
  {
   "cell_type": "code",
   "execution_count": null,
   "metadata": {},
   "outputs": [],
   "source": [
    "#read new data file\n",
    "df_new = pd.read_csv('PFE.csv')\n",
    "df_new.shape"
   ]
  },
  {
   "cell_type": "code",
   "execution_count": null,
   "metadata": {},
   "outputs": [],
   "source": [
    "df_new.head()"
   ]
  },
  {
   "cell_type": "markdown",
   "metadata": {},
   "source": [
    "#### Example 1: Insert rows"
   ]
  },
  {
   "cell_type": "code",
   "execution_count": null,
   "metadata": {},
   "outputs": [],
   "source": [
    "#demostrates how to insert new rows on top (below the header row)\n",
    "ws = wb['PFE']\n",
    "ws.insert_rows(idx=2, amount=5)\n",
    "i = 0\n",
    "for row in ws['A2:G6']:\n",
    "    j = 0\n",
    "    for cell in row:\n",
    "        cell.value = df_new.iloc[i, j]\n",
    "        j = j+1\n",
    "\n",
    "    i = i+1"
   ]
  },
  {
   "cell_type": "markdown",
   "metadata": {},
   "source": [
    "#### Example 2: Replace with new data"
   ]
  },
  {
   "cell_type": "code",
   "execution_count": null,
   "metadata": {},
   "outputs": [],
   "source": [
    "#first clear contents \n",
    "#then assign values\n",
    "ws = wb['PFE2']\n",
    "print(ws.max_row, ws.max_column)\n",
    "for row in ws['A2:G' + str(ws.max_row)]:\n",
    "    for cell in row:\n",
    "        cell.value = None\n",
    "\n",
    "print(ws.max_row)\n",
    "\n",
    "i = 0\n",
    "for row in ws['A2:G' + str(df_new.shape[0])]:\n",
    "    j = 0\n",
    "    for cell in row:\n",
    "        cell.value = df_new.iloc[i, j]\n",
    "        j = j+1\n",
    "\n",
    "    i = i+1\n"
   ]
  },
  {
   "cell_type": "code",
   "execution_count": null,
   "metadata": {},
   "outputs": [],
   "source": [
    "wb.save(filename = 'sample.xlsx')"
   ]
  },
  {
   "cell_type": "code",
   "execution_count": null,
   "metadata": {},
   "outputs": [],
   "source": []
  }
 ],
 "metadata": {
  "kernelspec": {
   "display_name": "Python 3",
   "language": "python",
   "name": "python3"
  },
  "language_info": {
   "codemirror_mode": {
    "name": "ipython",
    "version": 3
   },
   "file_extension": ".py",
   "mimetype": "text/x-python",
   "name": "python",
   "nbconvert_exporter": "python",
   "pygments_lexer": "ipython3",
   "version": "3.6.8"
  }
 },
 "nbformat": 4,
 "nbformat_minor": 4
}
