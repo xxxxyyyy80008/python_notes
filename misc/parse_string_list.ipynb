{
 "cells": [
  {
   "cell_type": "markdown",
   "id": "479c0ffe",
   "metadata": {},
   "source": [
    "### Convert a string of a list to a list\n",
    "\n",
    "**reference:**\n",
    "- [stackoverflow: how to convert string representation of list to a list](https://stackoverflow.com/questions/1894269/how-to-convert-string-representation-of-list-to-a-list)\n",
    "\n",
    "**solution:**\n",
    "- use  `json.loads(your_data) ` function in the `json` module to parse a stringified list of dictionaries\n",
    "- **NOTE**: it works for `'[\"a\",\"b\"]'` but not for `\"['a','b']\"`"
   ]
  },
  {
   "cell_type": "code",
   "execution_count": 4,
   "id": "7637ab80",
   "metadata": {},
   "outputs": [
    {
     "data": {
      "text/plain": [
       "['A', 'B', 'C', ' D']"
      ]
     },
     "execution_count": 4,
     "metadata": {},
     "output_type": "execute_result"
    }
   ],
   "source": [
    "import json\n",
    "x = '[ \"A\",\"B\",\"C\" , \" D\"]'\n",
    "\n",
    "json.loads(x)"
   ]
  },
  {
   "cell_type": "code",
   "execution_count": 2,
   "id": "9f3cd32d",
   "metadata": {},
   "outputs": [
    {
     "data": {
      "text/plain": [
       "['a', 'b']"
      ]
     },
     "execution_count": 2,
     "metadata": {},
     "output_type": "execute_result"
    }
   ],
   "source": [
    "x = '[\"a\",\"b\"]' \n",
    "json.loads(x)    "
   ]
  },
  {
   "cell_type": "code",
   "execution_count": 5,
   "id": "55b9bd7a",
   "metadata": {},
   "outputs": [
    {
     "name": "stdout",
     "output_type": "stream",
     "text": [
      "error\n"
     ]
    }
   ],
   "source": [
    "try:\n",
    "    x = \"['a','b']\"\n",
    "    json.loads(x) \n",
    "except:\n",
    "    print('error')"
   ]
  }
 ],
 "metadata": {
  "kernelspec": {
   "display_name": "Python 3 (ipykernel)",
   "language": "python",
   "name": "python3"
  },
  "language_info": {
   "codemirror_mode": {
    "name": "ipython",
    "version": 3
   },
   "file_extension": ".py",
   "mimetype": "text/x-python",
   "name": "python",
   "nbconvert_exporter": "python",
   "pygments_lexer": "ipython3",
   "version": "3.7.3"
  }
 },
 "nbformat": 4,
 "nbformat_minor": 5
}
