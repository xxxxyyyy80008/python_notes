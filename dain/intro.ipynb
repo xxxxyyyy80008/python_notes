{
 "cells": [
  {
   "cell_type": "markdown",
   "id": "d79ff7f9",
   "metadata": {},
   "source": [
    "## Deep Adaptive Input Normalization for Time Series Forecasting\n",
    "\n",
    "\n",
    "**References**\n",
    "\n",
    "- [Passalis, N., Kanniainen, J., Gabbouj, M. et al. Forecasting Financial Time Series Using Robust Deep Adaptive Input Normalization. J Sign Process Syst 93, 1235–1251 (2021). https://doi.org/10.1007/s11265-020-01624-0](https://arxiv.org/pdf/1902.07892.pdf)\n",
    "- [source code](https://github.com/passalis/dain)\n",
    "\n",
    "\n",
    "**Notes on Paper**\n",
    "\n",
    "- the authors of this paper proposed a data normalization layer called **deep adaptive input normalization** before the neural network learning layers to normalize data that aims to address the *non-stationary* issue of time series data.\n",
    "- the architecture of the normalization layer outlines 3 steps - as is shown in the following figure:\n",
    "  1. use of mean: x = x - mean\n",
    "  1. use of standard deviation (std): x = x/std\n",
    "  1. use of sigmoid: x = x*sigmoid\n",
    "  \n",
    "![png](img/dain_architecture.png)\n",
    "\n",
    "\n",
    "**Visual Explanation of DAIN process**\n",
    "\n",
    "![png](img/dain1.png)\n",
    "\n",
    "![png](img/dain2.png)\n",
    "\n",
    "![png](img/dain3.png)\n",
    "\n",
    "![png](img/dain4.png)\n",
    "\n",
    "![png](img/dain5.png)\n",
    "\n",
    "![png](img/dain6.png)\n",
    "\n",
    "![png](img/dain7.png)\n"
   ]
  }
 ],
 "metadata": {
  "kernelspec": {
   "display_name": "Python 3 (ipykernel)",
   "language": "python",
   "name": "python3"
  },
  "language_info": {
   "codemirror_mode": {
    "name": "ipython",
    "version": 3
   },
   "file_extension": ".py",
   "mimetype": "text/x-python",
   "name": "python",
   "nbconvert_exporter": "python",
   "pygments_lexer": "ipython3",
   "version": "3.7.3"
  }
 },
 "nbformat": 4,
 "nbformat_minor": 5
}
